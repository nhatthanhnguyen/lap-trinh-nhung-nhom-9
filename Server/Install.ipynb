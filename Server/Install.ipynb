{
 "cells": [
  {
   "cell_type": "code",
   "execution_count": null,
   "metadata": {},
   "outputs": [],
   "source": [
    "%pip install wget numpy IPython opencv-python matplotlib tensorflow pillow Flask"
   ]
  },
  {
   "cell_type": "code",
   "execution_count": 2,
   "metadata": {},
   "outputs": [],
   "source": [
    "import os\n",
    "import wget\n",
    "import numpy as np\n",
    "from IPython.display import display\n",
    "import cv2\n",
    "from six import BytesIO\n",
    "import matplotlib.pyplot as plt\n",
    "import tensorflow as tf\n",
    "\n",
    "from PIL import Image, ImageDraw, ImageFont"
   ]
  },
  {
   "cell_type": "code",
   "execution_count": 3,
   "metadata": {},
   "outputs": [],
   "source": [
    "CUSTOM_MODEL_NAME = \"my_ssd_mobnet\"\n",
    "PRETRAINED_MODEL_NAME = \"ssd_mobilenet_v2_fpnlite_320x320_coco17_tpu-8\"\n",
    "PRETRAINED_MODEL_URL = \"http://download.tensorflow.org/models/object_detection/tf2/20200711/ssd_mobilenet_v2_fpnlite_320x320_coco17_tpu-8.tar.gz\"\n",
    "TF_RECORD_SCRIPT_NAME = \"generate_tfrecord.py\"\n",
    "LABEL_MAP_NAME = \"label_map.pbtxt\""
   ]
  },
  {
   "cell_type": "code",
   "execution_count": 4,
   "metadata": {},
   "outputs": [],
   "source": [
    "paths = {\n",
    "    \"WORKSPACE_PATH\": os.path.join(\"Tensorflow\", \"workspace\"),\n",
    "    \"SCRIPTS_PATH\": os.path.join(\"Tensorflow\", \"scripts\"),\n",
    "    \"APIMODEL_PATH\": os.path.join(\"Tensorflow\", \"models\"),\n",
    "    \"ANNOTATION_PATH\": os.path.join(\"Tensorflow\", \"workspace\", \"annotations\"),\n",
    "    \"IMAGE_PATH\": os.path.join(\"Tensorflow\", \"workspace\", \"images\"),\n",
    "    \"MODEL_PATH\": os.path.join(\"Tensorflow\", \"workspace\", \"models\"),\n",
    "    \"PRETRAINED_MODEL_PATH\": os.path.join(\"Tensorflow\", \"workspace\", \"pre-trained-models\"),\n",
    "    \"CHECKPOINT_PATH\": os.path.join(\"Tensorflow\", \"workspace\", \"models\", CUSTOM_MODEL_NAME),\n",
    "    \"OUTPUT_PATH\": os.path.join(\"Tensorflow\", \"workspace\", \"models\", CUSTOM_MODEL_NAME, \"export\"),\n",
    "    \"TFJS_PATH\": os.path.join(\"Tensorflow\", \"workspace\", \"models\", CUSTOM_MODEL_NAME, \"tfjsexport\"),\n",
    "    \"TFLITE_PATH\": os.path.join(\"Tensorflow\", \"workspace\", \"models\", CUSTOM_MODEL_NAME, \"tfliteexport\"),\n",
    "    \"PROTOC_PATH\": os.path.join(\"Tensorflow\", \"protoc\"),\n",
    "    \"EXPORT_MODEL\": os.path.join(\"Tensorflow\", \"workspace\", \"export_model\"),\n",
    "}"
   ]
  },
  {
   "cell_type": "code",
   "execution_count": 5,
   "metadata": {},
   "outputs": [],
   "source": [
    "files = {\n",
    "    \"PIPELINE_CONFIG\": os.path.join(\"Tensorflow\", \"workspace\", \"models\", CUSTOM_MODEL_NAME, \"pipeline.config\"),\n",
    "    \"TF_RECORD_SCRIPT\": os.path.join(paths[\"SCRIPTS_PATH\"], TF_RECORD_SCRIPT_NAME),\n",
    "    \"LABELMAP\": os.path.join(paths[\"ANNOTATION_PATH\"], LABEL_MAP_NAME),\n",
    "}"
   ]
  },
  {
   "cell_type": "code",
   "execution_count": null,
   "metadata": {},
   "outputs": [],
   "source": [
    "for path in paths.values():\n",
    "    if not os.path.exists(path):\n",
    "            !mkdir -p {path}"
   ]
  },
  {
   "cell_type": "code",
   "execution_count": null,
   "metadata": {},
   "outputs": [],
   "source": [
    "if not os.path.exists(os.path.join(paths['APIMODEL_PATH'], 'research', 'object_detection')):\n",
    "    !git clone https://github.com/tensorflow/models {paths['APIMODEL_PATH']}"
   ]
  },
  {
   "cell_type": "code",
   "execution_count": null,
   "metadata": {},
   "outputs": [],
   "source": [
    "\n",
    "# Install Tensorflow Object Detection \n",
    "url=\"https://github.com/protocolbuffers/protobuf/releases/download/v22.5/protoc-22.5-win64.zip\"\n",
    "wget.download(url)\n",
    "!move protoc-22.5-win64.zip {paths['PROTOC_PATH']}\n",
    "!cd {paths['PROTOC_PATH']} && tar -xf protoc-22.5-win64.zip\n",
    "os.environ['PATH'] += os.pathsep + os.path.abspath(os.path.join(paths['PROTOC_PATH'], 'bin'))   \n",
    "!cd Tensorflow/models/research && protoc object_detection/protos/*.proto --python_out=. && copy object_detection\\\\packages\\\\tf2\\\\setup.py setup.py && python setup.py build && python setup.py install\n",
    "!cd Tensorflow/models/research/slim && pip install -e . \n"
   ]
  }
 ],
 "metadata": {
  "kernelspec": {
   "display_name": "tfod",
   "language": "python",
   "name": "python3"
  },
  "language_info": {
   "codemirror_mode": {
    "name": "ipython",
    "version": 3
   },
   "file_extension": ".py",
   "mimetype": "text/x-python",
   "name": "python",
   "nbconvert_exporter": "python",
   "pygments_lexer": "ipython3",
   "version": "3.10.10"
  },
  "orig_nbformat": 4
 },
 "nbformat": 4,
 "nbformat_minor": 2
}
